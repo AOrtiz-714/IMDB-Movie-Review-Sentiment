{
 "cells": [
  {
   "cell_type": "markdown",
   "id": "df4c59eb-299f-4181-b98c-5abd000cce55",
   "metadata": {},
   "source": [
    "# Predicting Sentiment Based on Reviews Using Machine Learning\n",
    "\n",
    "This notebook looks into usin various Python-based ML and data science libraties in an attempt to build a ML Model capable of predicting a positive or negative review. \n",
    "\n",
    "## 1. Problem Definition\n",
    "\n",
    "In a statement, \n",
    "> Given movie review, can we predict positive or negative review\n",
    "\n",
    "## 2. Data\n",
    "\n",
    "> The original data came from https://www.kaggle.com/datasets/lakshmi25npathi/imdb-dataset-of-50k-movie-reviews?resource=download. \n",
    "\n",
    "## 3. Evaluation\n",
    "\n",
    "> If we can reach 95% accuracy at predicting whether or not a movie has positive or negative review during the proof of concept, we'll pursue the project.\n",
    "\n",
    "## 4. Features\n",
    "\n",
    "**Data Dictionary** \n",
    "\n",
    "\n",
    "    1. Review       Description of movie\n",
    "    2. Sentiment    Positive or Negative "
   ]
  },
  {
   "cell_type": "code",
   "execution_count": 6,
   "id": "95f77fa5-a617-4bef-a0dd-1f8224d1043a",
   "metadata": {},
   "outputs": [],
   "source": [
    "import pandas as pd\n",
    "import numpy as np"
   ]
  },
  {
   "cell_type": "code",
   "execution_count": 8,
   "id": "9418b6c1-922f-464a-b62d-372ba4213b65",
   "metadata": {},
   "outputs": [
    {
     "name": "stdout",
     "output_type": "stream",
     "text": [
      "                                               review sentiment\n",
      "0   One of the other reviewers has mentioned that ...  positive\n",
      "1   A wonderful little production. <br /><br />The...  positive\n",
      "2   I thought this was a wonderful way to spend ti...  positive\n",
      "3   Basically there's a family where a little boy ...  negative\n",
      "4   Petter Mattei's \"Love in the Time of Money\" is...  positive\n",
      "5   Probably my all-time favorite movie, a story o...  positive\n",
      "6   I sure would like to see a resurrection of a u...  positive\n",
      "7   This show was an amazing, fresh & innovative i...  negative\n",
      "8   Encouraged by the positive comments about this...  negative\n",
      "9   If you like original gut wrenching laughter yo...  positive\n",
      "10  Phil the Alien is one of those quirky films wh...  negative\n",
      "11  I saw this movie when I was about 12 when it c...  negative\n",
      "12  So im not a big fan of Boll's work but then ag...  negative\n",
      "13  The cast played Shakespeare.<br /><br />Shakes...  negative\n",
      "14  This a fantastic movie of three prisoners who ...  positive\n",
      "15  Kind of drawn in by the erotic scenes, only to...  negative\n",
      "16  Some films just simply should not be remade. T...  positive\n",
      "17  This movie made it into one of my top 10 most ...  negative\n",
      "18  I remember this film,it was the first film i h...  positive\n",
      "19  An awful film! It must have been up against so...  negative\n",
      "(50000, 2)\n"
     ]
    },
    {
     "data": {
      "text/plain": [
       "(None, None)"
      ]
     },
     "execution_count": 8,
     "metadata": {},
     "output_type": "execute_result"
    }
   ],
   "source": [
    "# Load CSV\n",
    "df = pd.read_csv('/Users/alonsoortiz/Downloads/IMDB Dataset.csv')\n",
    "\n",
    "# Preview\n",
    "print(df.head(20)), print(df.shape)"
   ]
  },
  {
   "cell_type": "code",
   "execution_count": 9,
   "id": "83b24229-c401-4eed-b659-a3049f83dbc3",
   "metadata": {},
   "outputs": [
    {
     "name": "stdout",
     "output_type": "stream",
     "text": [
      "sentiment\n",
      "positive    25000\n",
      "negative    25000\n",
      "Name: count, dtype: int64\n"
     ]
    }
   ],
   "source": [
    "# Sentiment Counts\n",
    "print(df['sentiment'].value_counts())"
   ]
  },
  {
   "cell_type": "code",
   "execution_count": 10,
   "id": "9c44e544-67b9-48b5-86ff-b1e5a71e4d92",
   "metadata": {},
   "outputs": [
    {
     "name": "stderr",
     "output_type": "stream",
     "text": [
      "[nltk_data] Downloading package stopwords to\n",
      "[nltk_data]     /Users/alonsoortiz/nltk_data...\n",
      "[nltk_data]   Package stopwords is already up-to-date!\n"
     ]
    }
   ],
   "source": [
    "# Get ReGex and Natural Language toolkit\n",
    "import re\n",
    "import nltk\n",
    "from nltk.corpus import stopwords\n",
    "\n",
    "nltk.download('stopwords')\n",
    "stop_words = set(stopwords.words('english'))"
   ]
  },
  {
   "cell_type": "code",
   "execution_count": 11,
   "id": "50ccc29a-b828-4230-967b-d844587e1441",
   "metadata": {},
   "outputs": [],
   "source": [
    "# Clean Text\n",
    "\n",
    "def clean_text(text):\n",
    "    text = re.sub(r'<.*?>', '', text)  # Remove HTML\n",
    "    text = re.sub(r'[^a-zA-Z]', ' ', text) # Remove punctuation \n",
    "    words = text.lower().split()\n",
    "    words = [w for w in words if w not in stop_words]\n",
    "    return \" \".join(words)\n",
    "\n",
    "df['clean_review'] = df['review'].apply(clean_text)\n",
    "df['label'] = df['sentiment'].map({'positive': 1, 'negative': 0})"
   ]
  },
  {
   "cell_type": "code",
   "execution_count": 14,
   "id": "ae846ad2-b44e-48f9-8963-b7e1509d99a0",
   "metadata": {},
   "outputs": [],
   "source": [
    "# Vectorize Text (TF-IDF)\n",
    "\n",
    "from sklearn.feature_extraction.text import TfidfVectorizer\n",
    "\n",
    "# Instantiate TfidVectorizer\n",
    "tfidf = TfidfVectorizer(max_features=5000)\n",
    "\n",
    "# Feature and label\n",
    "X = tfidf.fit_transform(df['clean_review'])\n",
    "y = df['label']"
   ]
  },
  {
   "cell_type": "code",
   "execution_count": 15,
   "id": "0ba2954d-ce52-4c74-8b02-826199bc701e",
   "metadata": {},
   "outputs": [
    {
     "data": {
      "text/html": [
       "<div>\n",
       "<style scoped>\n",
       "    .dataframe tbody tr th:only-of-type {\n",
       "        vertical-align: middle;\n",
       "    }\n",
       "\n",
       "    .dataframe tbody tr th {\n",
       "        vertical-align: top;\n",
       "    }\n",
       "\n",
       "    .dataframe thead th {\n",
       "        text-align: right;\n",
       "    }\n",
       "</style>\n",
       "<table border=\"1\" class=\"dataframe\">\n",
       "  <thead>\n",
       "    <tr style=\"text-align: right;\">\n",
       "      <th></th>\n",
       "      <th>review</th>\n",
       "      <th>sentiment</th>\n",
       "      <th>clean_review</th>\n",
       "      <th>label</th>\n",
       "    </tr>\n",
       "  </thead>\n",
       "  <tbody>\n",
       "    <tr>\n",
       "      <th>0</th>\n",
       "      <td>One of the other reviewers has mentioned that ...</td>\n",
       "      <td>positive</td>\n",
       "      <td>one reviewers mentioned watching oz episode ho...</td>\n",
       "      <td>1</td>\n",
       "    </tr>\n",
       "    <tr>\n",
       "      <th>1</th>\n",
       "      <td>A wonderful little production. &lt;br /&gt;&lt;br /&gt;The...</td>\n",
       "      <td>positive</td>\n",
       "      <td>wonderful little production filming technique ...</td>\n",
       "      <td>1</td>\n",
       "    </tr>\n",
       "    <tr>\n",
       "      <th>2</th>\n",
       "      <td>I thought this was a wonderful way to spend ti...</td>\n",
       "      <td>positive</td>\n",
       "      <td>thought wonderful way spend time hot summer we...</td>\n",
       "      <td>1</td>\n",
       "    </tr>\n",
       "    <tr>\n",
       "      <th>3</th>\n",
       "      <td>Basically there's a family where a little boy ...</td>\n",
       "      <td>negative</td>\n",
       "      <td>basically family little boy jake thinks zombie...</td>\n",
       "      <td>0</td>\n",
       "    </tr>\n",
       "    <tr>\n",
       "      <th>4</th>\n",
       "      <td>Petter Mattei's \"Love in the Time of Money\" is...</td>\n",
       "      <td>positive</td>\n",
       "      <td>petter mattei love time money visually stunnin...</td>\n",
       "      <td>1</td>\n",
       "    </tr>\n",
       "    <tr>\n",
       "      <th>...</th>\n",
       "      <td>...</td>\n",
       "      <td>...</td>\n",
       "      <td>...</td>\n",
       "      <td>...</td>\n",
       "    </tr>\n",
       "    <tr>\n",
       "      <th>49995</th>\n",
       "      <td>I thought this movie did a down right good job...</td>\n",
       "      <td>positive</td>\n",
       "      <td>thought movie right good job creative original...</td>\n",
       "      <td>1</td>\n",
       "    </tr>\n",
       "    <tr>\n",
       "      <th>49996</th>\n",
       "      <td>Bad plot, bad dialogue, bad acting, idiotic di...</td>\n",
       "      <td>negative</td>\n",
       "      <td>bad plot bad dialogue bad acting idiotic direc...</td>\n",
       "      <td>0</td>\n",
       "    </tr>\n",
       "    <tr>\n",
       "      <th>49997</th>\n",
       "      <td>I am a Catholic taught in parochial elementary...</td>\n",
       "      <td>negative</td>\n",
       "      <td>catholic taught parochial elementary schools n...</td>\n",
       "      <td>0</td>\n",
       "    </tr>\n",
       "    <tr>\n",
       "      <th>49998</th>\n",
       "      <td>I'm going to have to disagree with the previou...</td>\n",
       "      <td>negative</td>\n",
       "      <td>going disagree previous comment side maltin on...</td>\n",
       "      <td>0</td>\n",
       "    </tr>\n",
       "    <tr>\n",
       "      <th>49999</th>\n",
       "      <td>No one expects the Star Trek movies to be high...</td>\n",
       "      <td>negative</td>\n",
       "      <td>one expects star trek movies high art fans exp...</td>\n",
       "      <td>0</td>\n",
       "    </tr>\n",
       "  </tbody>\n",
       "</table>\n",
       "<p>50000 rows × 4 columns</p>\n",
       "</div>"
      ],
      "text/plain": [
       "                                                  review sentiment  \\\n",
       "0      One of the other reviewers has mentioned that ...  positive   \n",
       "1      A wonderful little production. <br /><br />The...  positive   \n",
       "2      I thought this was a wonderful way to spend ti...  positive   \n",
       "3      Basically there's a family where a little boy ...  negative   \n",
       "4      Petter Mattei's \"Love in the Time of Money\" is...  positive   \n",
       "...                                                  ...       ...   \n",
       "49995  I thought this movie did a down right good job...  positive   \n",
       "49996  Bad plot, bad dialogue, bad acting, idiotic di...  negative   \n",
       "49997  I am a Catholic taught in parochial elementary...  negative   \n",
       "49998  I'm going to have to disagree with the previou...  negative   \n",
       "49999  No one expects the Star Trek movies to be high...  negative   \n",
       "\n",
       "                                            clean_review  label  \n",
       "0      one reviewers mentioned watching oz episode ho...      1  \n",
       "1      wonderful little production filming technique ...      1  \n",
       "2      thought wonderful way spend time hot summer we...      1  \n",
       "3      basically family little boy jake thinks zombie...      0  \n",
       "4      petter mattei love time money visually stunnin...      1  \n",
       "...                                                  ...    ...  \n",
       "49995  thought movie right good job creative original...      1  \n",
       "49996  bad plot bad dialogue bad acting idiotic direc...      0  \n",
       "49997  catholic taught parochial elementary schools n...      0  \n",
       "49998  going disagree previous comment side maltin on...      0  \n",
       "49999  one expects star trek movies high art fans exp...      0  \n",
       "\n",
       "[50000 rows x 4 columns]"
      ]
     },
     "execution_count": 15,
     "metadata": {},
     "output_type": "execute_result"
    }
   ],
   "source": [
    "# take a look at the dataset\n",
    "df"
   ]
  },
  {
   "cell_type": "markdown",
   "id": "9e01e5cb-8149-44df-a31b-2dc71ec426cc",
   "metadata": {},
   "source": [
    "### Train the model"
   ]
  },
  {
   "cell_type": "code",
   "execution_count": 17,
   "id": "b0ae8b59-10be-46a6-b3f0-47ad8f01c01e",
   "metadata": {},
   "outputs": [
    {
     "name": "stdout",
     "output_type": "stream",
     "text": [
      "Accuracy: 89.13%\n"
     ]
    }
   ],
   "source": [
    "from sklearn.model_selection import train_test_split\n",
    "from sklearn.linear_model import LogisticRegression\n",
    "from sklearn.metrics import accuracy_score\n",
    "\n",
    "# Train test split\n",
    "X_train, X_test, y_train, y_test = train_test_split(X, y, test_size=0.2, random_state=42)\n",
    "\n",
    "# Instantiate model\n",
    "model = LogisticRegression()\n",
    "\n",
    "# Fit the model\n",
    "model.fit(X_train, y_train)\n",
    "\n",
    "# Model predictins based on untrained data (X_test)\n",
    "y_pred = model.predict(X_test)\n",
    "\n",
    "print('Accuracy:', f'{accuracy_score(y_test, y_pred):.2%}')"
   ]
  },
  {
   "cell_type": "code",
   "execution_count": null,
   "id": "6f0bd6cd-5e74-47fe-bd58-d837c9f81ac3",
   "metadata": {},
   "outputs": [],
   "source": []
  },
  {
   "cell_type": "markdown",
   "id": "8beaecbf-9f84-484c-9c43-986c191011b7",
   "metadata": {},
   "source": [
    "### Visualize"
   ]
  },
  {
   "cell_type": "code",
   "execution_count": 21,
   "id": "fac4dc48-4ac0-4944-a242-b20f0e8663ba",
   "metadata": {},
   "outputs": [
    {
     "name": "stdout",
     "output_type": "stream",
     "text": [
      "[[4347  614]\n",
      " [ 473 4566]]\n"
     ]
    }
   ],
   "source": [
    "from sklearn.metrics import confusion_matrix\n",
    "print(confusion_matrix(y_test, y_pred))"
   ]
  },
  {
   "cell_type": "code",
   "execution_count": 22,
   "id": "b5c3d0d8-ef40-4d8d-8e82-7d2b719be287",
   "metadata": {},
   "outputs": [
    {
     "data": {
      "image/png": "[encoded data removed]",
      "text/plain": [
       "<Figure size 600x400 with 2 Axes>"
      ]
     },
     "metadata": {},
     "output_type": "display_data"
    }
   ],
   "source": [
    "import seaborn as sns\n",
    "import matplotlib.pyplot as plt\n",
    "\n",
    "\n",
    "# Generate confusion matrix\n",
    "cm = confusion_matrix(y_test, y_pred)\n",
    "\n",
    "# Plot it\n",
    "plt.figure(figsize=(6,4))\n",
    "sns.heatmap(cm, annot=True, fmt='d', cmap='Blues',\n",
    "            xticklabels=['Negative', 'Positive'],\n",
    "            yticklabels=['Negative', 'Positive'])\n",
    "plt.xlabel('Predicted')\n",
    "plt.ylabel('Actual')\n",
    "plt.title('Confusion Matrix')\n",
    "plt.show()"
   ]
  },
  {
   "cell_type": "markdown",
   "id": "88680f37-93fa-43d6-b89c-1f51dd3161ee",
   "metadata": {},
   "source": [
    "### Classification Report"
   ]
  },
  {
   "cell_type": "code",
   "execution_count": 24,
   "id": "2f2eb169-1083-4f6b-a6ae-cf9619ad8092",
   "metadata": {},
   "outputs": [],
   "source": [
    "from sklearn.metrics import classification_report"
   ]
  },
  {
   "cell_type": "code",
   "execution_count": 26,
   "id": "cdff4eb6-5c9c-447f-93f9-bfe051331cf8",
   "metadata": {},
   "outputs": [
    {
     "name": "stdout",
     "output_type": "stream",
     "text": [
      "Classification Report:\n",
      "\n",
      "              precision    recall  f1-score   support\n",
      "\n",
      "    Negative       0.90      0.88      0.89      4961\n",
      "    Positive       0.88      0.91      0.89      5039\n",
      "\n",
      "    accuracy                           0.89     10000\n",
      "   macro avg       0.89      0.89      0.89     10000\n",
      "weighted avg       0.89      0.89      0.89     10000\n",
      "\n"
     ]
    }
   ],
   "source": [
    "print(\"Classification Report:\\n\")\n",
    "print(classification_report(y_test, y_pred, target_names=['Negative', 'Positive']))"
   ]
  },
  {
   "cell_type": "markdown",
   "id": "225c83bf-9fae-4695-a750-d88e15e9d589",
   "metadata": {},
   "source": [
    "## Summary"
   ]
  },
  {
   "cell_type": "markdown",
   "id": "f09de08b-4a2f-4cd0-91a3-a4037eee33c0",
   "metadata": {},
   "source": [
    "### IMDb Sentiment Classifier\n",
    "\n",
    "Built a movie review sentiment classifier using a Kaggle IMDb dataset with 50,000 reviews. Performed data preprocessing (HTML tag removal, stopword filtering), applied TF-IDF vectorization, and trained a Logistic Regression model. Achieved an 89.13% accuracy. Included model evaluation via confusion matrix and classification report. Demonstrates proficiency in NLP, sklearn, and data visualization."
   ]
  },
  {
   "cell_type": "code",
   "execution_count": null,
   "id": "933c91d5-60f3-4b21-9e51-73a8f4a7d320",
   "metadata": {},
   "outputs": [],
   "source": []
  },
  {
   "cell_type": "markdown",
   "id": "5e405d6d-aa9e-48bd-aa16-6af212b31d9a",
   "metadata": {},
   "source": [
    "## Apply other models and evaluate"
   ]
  },
  {
   "cell_type": "markdown",
   "id": "2fd5ca7a-adc7-4762-b334-59b0fbf564ec",
   "metadata": {},
   "source": [
    "## Naive Bayes"
   ]
  },
  {
   "cell_type": "code",
   "execution_count": 39,
   "id": "c4cd66a3-86c3-4c6d-85fc-303590abb055",
   "metadata": {},
   "outputs": [],
   "source": [
    "from sklearn.naive_bayes import MultinomialNB"
   ]
  },
  {
   "cell_type": "code",
   "execution_count": 41,
   "id": "503a024c-7dc3-4cf1-868a-2bf3a1b0074e",
   "metadata": {},
   "outputs": [
    {
     "data": {
      "text/plain": [
       "array([0, 1, 0, ..., 1, 0, 1])"
      ]
     },
     "execution_count": 41,
     "metadata": {},
     "output_type": "execute_result"
    }
   ],
   "source": [
    "nb_model = MultinomialNB()\n",
    "nb_model.fit(X_train, y_train)\n",
    "\n",
    "#Predict\n",
    "y_pred_nb = nb_model.predict(X_test)\n",
    "y_pred_nb"
   ]
  },
  {
   "cell_type": "markdown",
   "id": "af61b409-b2e2-4a3a-9145-985f707a2a6b",
   "metadata": {},
   "source": [
    "### Confusion Matrix"
   ]
  },
  {
   "cell_type": "code",
   "execution_count": 44,
   "id": "e38afc32-6b44-441c-857c-6baf40887b08",
   "metadata": {},
   "outputs": [
    {
     "data": {
      "image/png": "[encoded data removed]",
      "text/plain": [
       "<Figure size 600x400 with 2 Axes>"
      ]
     },
     "metadata": {},
     "output_type": "display_data"
    }
   ],
   "source": [
    "from sklearn.metrics import confusion_matrix\n",
    "import matplotlib.pyplot as plt\n",
    "import seaborn as sns\n",
    "\n",
    "cm_nb = confusion_matrix(y_test, y_pred_nb)\n",
    "\n",
    "plt.figure(figsize=(6,4))\n",
    "sns.heatmap(cm_nb, annot=True, fmt='d', cmap='icefire',\n",
    "            xticklabels=['Negative', 'Positive'],\n",
    "            yticklabels=['Negative', 'Positive'])\n",
    "plt.xlabel('Predicted')\n",
    "plt.ylabel('Actual')\n",
    "plt.title('Naive Bayes Confusion Matrix')\n",
    "plt.show()"
   ]
  },
  {
   "cell_type": "code",
   "execution_count": 46,
   "id": "785f948f-ea97-4c8c-b3ff-ac14e9806ffb",
   "metadata": {},
   "outputs": [],
   "source": [
    "from sklearn.metrics import classification_report"
   ]
  },
  {
   "cell_type": "code",
   "execution_count": 48,
   "id": "541ae72b-18d4-4c04-96c1-6fcd467e8969",
   "metadata": {},
   "outputs": [
    {
     "name": "stdout",
     "output_type": "stream",
     "text": [
      "Naive Bayes Accuracy: 0.8556\n",
      "\n",
      "Naive Bayes Classificatin Report:\n",
      "\n",
      "              precision    recall  f1-score   support\n",
      "\n",
      "    Negative       0.86      0.85      0.85      4961\n",
      "    Positive       0.85      0.86      0.86      5039\n",
      "\n",
      "    accuracy                           0.86     10000\n",
      "   macro avg       0.86      0.86      0.86     10000\n",
      "weighted avg       0.86      0.86      0.86     10000\n",
      "\n"
     ]
    }
   ],
   "source": [
    "print(\"Naive Bayes Accuracy:\", accuracy_score(y_test, y_pred_nb))\n",
    "print('\\nNaive Bayes Classificatin Report:\\n')\n",
    "print(classification_report(y_test, y_pred_nb, target_names=['Negative', 'Positive']))"
   ]
  },
  {
   "cell_type": "markdown",
   "id": "4fb766c2-0d16-4241-a15c-ba6c3e297fef",
   "metadata": {},
   "source": [
    "# Model comparisons"
   ]
  },
  {
   "cell_type": "markdown",
   "id": "cc820ec1-c01f-4bed-b023-b24049defbf1",
   "metadata": {},
   "source": [
    "### Collect Metrics"
   ]
  },
  {
   "cell_type": "code",
   "execution_count": 52,
   "id": "dfa6a99a-432e-4d39-88bf-2e1823a82907",
   "metadata": {},
   "outputs": [],
   "source": [
    "from sklearn.metrics import precision_score, recall_score, f1_score\n",
    "\n",
    "# Logistic Regression Metrics\n",
    "lr_accuracy = accuracy_score(y_test, y_pred)\n",
    "lr_precision = precision_score(y_test, y_pred)\n",
    "lr_recall = recall_score(y_test, y_pred)\n",
    "lr_f1 = f1_score(y_test, y_pred)\n",
    "\n",
    "# Naive Bayes Metrics\n",
    "nb_accuracy = accuracy_score(y_test, y_pred_nb)\n",
    "nb_precision = precision_score(y_test, y_pred_nb)\n",
    "nb_recall = recall_score(y_test, y_pred_nb)\n",
    "nb_f1 = f1_score(y_test, y_pred_nb)"
   ]
  },
  {
   "cell_type": "markdown",
   "id": "ef3c4d61-4f08-46a9-8e34-d195182a6879",
   "metadata": {},
   "source": [
    "### Side-by-Side Bar Chart"
   ]
  },
  {
   "cell_type": "code",
   "execution_count": 55,
   "id": "da58ae0a-6be0-4d70-bca0-118f747a2266",
   "metadata": {},
   "outputs": [],
   "source": [
    "import matplotlib.pyplot as plt\n",
    "import numpy as np"
   ]
  },
  {
   "cell_type": "code",
   "execution_count": 57,
   "id": "ac7c4399-d2b0-406e-a9fc-754a19e68c51",
   "metadata": {},
   "outputs": [
    {
     "data": {
      "text/plain": [
       "<function matplotlib.pyplot.show(close=None, block=None)>"
      ]
     },
     "execution_count": 57,
     "metadata": {},
     "output_type": "execute_result"
    },
    {
     "data": {
      "image/png": "[encoded data removed]",
      "text/plain": [
       "<Figure size 1000x500 with 1 Axes>"
      ]
     },
     "metadata": {},
     "output_type": "display_data"
    }
   ],
   "source": [
    "metrics = ['Accuracy', 'Precision', 'Recall', 'F1-score']\n",
    "lr_scores = [lr_accuracy, lr_precision, lr_recall, lr_f1]\n",
    "nb_scores = [nb_accuracy, nb_precision, nb_recall, nb_f1]\n",
    "\n",
    "x = np.arange(len(metrics))\n",
    "width = 0.35\n",
    "\n",
    "plt.figure(figsize=(10,5), facecolor='white')\n",
    "plt.bar(x - width/2, lr_scores, width, label='Logistic Regression')\n",
    "plt.bar(x + width/2, nb_scores, width, label='Naive Bayes')\n",
    "plt.xticks(x, metrics)\n",
    "plt.ylim(0.7, 1.0)\n",
    "plt.ylabel('Score')\n",
    "plt.title('Model Comparison: Logistic Regression vs Naive Bayes')\n",
    "plt.legend()\n",
    "plt.grid(axis='y', linestyle='--', alpha=0.7)\n",
    "plt.tight_layout()\n",
    "plt.show"
   ]
  },
  {
   "cell_type": "markdown",
   "id": "feb57366-72dc-4f2c-976e-21b7c68be8fb",
   "metadata": {},
   "source": [
    "## Support Vector Machine (SVM)"
   ]
  },
  {
   "cell_type": "code",
   "execution_count": 60,
   "id": "cbe6b692-872c-46db-af68-c4ef53ea2cab",
   "metadata": {},
   "outputs": [
    {
     "name": "stdout",
     "output_type": "stream",
     "text": [
      "SVM Accuracy: 0.8822\n",
      "              precision    recall  f1-score   support\n",
      "\n",
      "           0       0.89      0.87      0.88      4961\n",
      "           1       0.88      0.89      0.88      5039\n",
      "\n",
      "    accuracy                           0.88     10000\n",
      "   macro avg       0.88      0.88      0.88     10000\n",
      "weighted avg       0.88      0.88      0.88     10000\n",
      "\n"
     ]
    }
   ],
   "source": [
    "from sklearn.svm import LinearSVC\n",
    "\n",
    "svm_model = LinearSVC()\n",
    "svm_model.fit(X_train, y_train)\n",
    "y_pred_svm = svm_model.predict(X_test)\n",
    "\n",
    "# SVM metrics\n",
    "svm_accuracy = accuracy_score(y_test, y_pred_svm)\n",
    "svm_precision = precision_score(y_test, y_pred_svm)\n",
    "svm_recall = recall_score(y_test, y_pred_svm)\n",
    "svm_f1 = f1_score(y_test, y_pred_svm)\n",
    "\n",
    "print(\"SVM Accuracy:\", svm_accuracy)\n",
    "print(classification_report(y_test, y_pred_svm))"
   ]
  },
  {
   "cell_type": "markdown",
   "id": "e01d7a00-6e3f-438f-a0ae-8618f63ba47f",
   "metadata": {},
   "source": [
    "## Random Forest"
   ]
  },
  {
   "cell_type": "code",
   "execution_count": 62,
   "id": "f3a39149-b75e-483f-937d-1a59fa78b4b2",
   "metadata": {},
   "outputs": [
    {
     "name": "stdout",
     "output_type": "stream",
     "text": [
      "Random Forest Accuracy: 0.847\n",
      "              precision    recall  f1-score   support\n",
      "\n",
      "           0       0.84      0.86      0.85      4961\n",
      "           1       0.86      0.83      0.85      5039\n",
      "\n",
      "    accuracy                           0.85     10000\n",
      "   macro avg       0.85      0.85      0.85     10000\n",
      "weighted avg       0.85      0.85      0.85     10000\n",
      "\n"
     ]
    }
   ],
   "source": [
    "from sklearn.ensemble import RandomForestClassifier\n",
    "\n",
    "rf_model = RandomForestClassifier(n_estimators=100, random_state=42)\n",
    "rf_model.fit(X_train, y_train)\n",
    "y_pred_rf = rf_model.predict(X_test)\n",
    "\n",
    "# Random Forest metrics\n",
    "rf_accuracy = accuracy_score(y_test, y_pred_rf)\n",
    "rf_precision = precision_score(y_test, y_pred_rf)\n",
    "rf_recall = recall_score(y_test, y_pred_rf)\n",
    "rf_f1 = f1_score(y_test, y_pred_rf)\n",
    "\n",
    "print(\"Random Forest Accuracy:\", rf_accuracy)\n",
    "print(classification_report(y_test, y_pred_rf))"
   ]
  },
  {
   "cell_type": "code",
   "execution_count": 64,
   "id": "0162f242-acdd-41ae-86f5-1ee9271a2b5f",
   "metadata": {},
   "outputs": [],
   "source": [
    "import matplotlib.pyplot as plt\n",
    "import numpy as np\n",
    "\n",
    "# List of models and their metrics\n",
    "models = ['LogReg', 'NaiveBayes', 'SVM', 'RandomForest']\n",
    "accuracies = [lr_accuracy, nb_accuracy, svm_accuracy, rf_accuracy]\n",
    "precisions = [lr_precision, nb_precision, svm_precision, rf_precision]\n",
    "recalls = [lr_recall, nb_recall, svm_recall, rf_recall]\n",
    "f1s = [lr_f1, nb_f1, svm_f1, rf_f1]"
   ]
  },
  {
   "cell_type": "code",
   "execution_count": 65,
   "id": "ba44731a-8e9f-41ce-bca6-02ee66d5c40f",
   "metadata": {},
   "outputs": [
    {
     "data": {
      "image/png": "[encoded data removed]",
      "text/plain": [
       "<Figure size 1200x600 with 1 Axes>"
      ]
     },
     "metadata": {},
     "output_type": "display_data"
    }
   ],
   "source": [
    "x = np.arange(len(models))  # the label locations\n",
    "width = 0.2  # width of the bars\n",
    "\n",
    "plt.figure(figsize=(12, 6))\n",
    "plt.bar(x - 1.5*width, accuracies, width, label='Accuracy')\n",
    "plt.bar(x - 0.5*width, precisions, width, label='Precision')\n",
    "plt.bar(x + 0.5*width, recalls, width, label='Recall')\n",
    "plt.bar(x + 1.5*width, f1s, width, label='F1-score')\n",
    "\n",
    "plt.ylabel('Score')\n",
    "plt.ylim(0.7, 1.0)\n",
    "plt.title('Model Comparison: IMDb Sentiment Classifier')\n",
    "plt.xticks(x, models)\n",
    "plt.legend(loc='lower right')\n",
    "plt.grid(axis='y', linestyle='--', alpha=0.7)\n",
    "plt.tight_layout()\n",
    "plt.show()"
   ]
  },
  {
   "cell_type": "markdown",
   "id": "fb26a45a-1da7-4de9-9c05-9b9247c72cc4",
   "metadata": {},
   "source": [
    "### Conclusion\n",
    "\n",
    "In this project, I build an evaluated a sentiment analysis model using hte IMDB Kaggle dataset, consisting of 50,000 labeled movie reviews. I applied NLP techniques such as HTML tag removal, stopword filtering, and TF_IDF vectorization to process teh data.\n",
    "I trained and compared four supervised learning models evaluation metrics like`accuracy`, `precision`, `recall`, and `F1-score`: \n",
    "1. **Logistic Regression**,\n",
    "2. **Naive Bayes**,\n",
    "3. **Suport Vector Machine** (SVM), and\n",
    "4. **Random Forestusing**\n",
    "\n",
    "Overall, **Logistic Regression** achieved thte highest performace with **89.13%** `accuracy` while balancing `precision` and `recall` effectively. **Naive Bayes** and **SVM** were competevite, while **Random Forest** did not offer strong accuracy and was substantially resource intensive. This project, albeit rudimentary and succinct, demonstrates my ability to perform end-to-end NLP modeling, evaluate multiple algorithms, and communicate insights through visualization and structured analysis. "
   ]
  },
  {
   "cell_type": "code",
   "execution_count": null,
   "id": "1a572e97-5177-4653-9a59-ad0498945de7",
   "metadata": {},
   "outputs": [],
   "source": []
  },
  {
   "cell_type": "code",
   "execution_count": null,
   "id": "691cc444-665c-4835-be52-7ea35c23ac6f",
   "metadata": {},
   "outputs": [],
   "source": []
  },
  {
   "cell_type": "code",
   "execution_count": null,
   "id": "3c411624-306c-4460-93db-61e88e652590",
   "metadata": {},
   "outputs": [],
   "source": []
  },
  {
   "cell_type": "code",
   "execution_count": null,
   "id": "80f7742c-ba4d-4b04-a3a0-0444f74bc58f",
   "metadata": {},
   "outputs": [],
   "source": []
  },
  {
   "cell_type": "code",
   "execution_count": null,
   "id": "88178ef1-417d-4d5d-ab32-70b1c897b1f8",
   "metadata": {},
   "outputs": [],
   "source": []
  },
  {
   "cell_type": "code",
   "execution_count": null,
   "id": "1c081627-f078-4bac-b3e6-8836535a679d",
   "metadata": {},
   "outputs": [],
   "source": []
  },
  {
   "cell_type": "code",
   "execution_count": null,
   "id": "7229c7a6-cfd1-4a42-93b2-9149293596a0",
   "metadata": {},
   "outputs": [],
   "source": []
  },
  {
   "cell_type": "code",
   "execution_count": null,
   "id": "7593af58-10b0-41b8-a97a-d01ae726a038",
   "metadata": {},
   "outputs": [],
   "source": []
  },
  {
   "cell_type": "code",
   "execution_count": null,
   "id": "1671d19a-2b7e-41f7-8e45-82a027bade73",
   "metadata": {},
   "outputs": [],
   "source": []
  },
  {
   "cell_type": "code",
   "execution_count": null,
   "id": "a81b9c0b-6b33-4f80-b336-ab5da630834a",
   "metadata": {},
   "outputs": [],
   "source": []
  },
  {
   "cell_type": "code",
   "execution_count": null,
   "id": "49909892-c091-4c4f-ab45-b285fc6ad9d3",
   "metadata": {},
   "outputs": [],
   "source": []
  },
  {
   "cell_type": "code",
   "execution_count": null,
   "id": "f6cbcd5f-aeb5-49f4-b3df-fbbd0f4f94d3",
   "metadata": {},
   "outputs": [],
   "source": []
  },
  {
   "cell_type": "code",
   "execution_count": null,
   "id": "ac61f29c-19a0-4d40-b525-770b3eae07bd",
   "metadata": {},
   "outputs": [],
   "source": []
  },
  {
   "cell_type": "code",
   "execution_count": null,
   "id": "977cf2b7-2e65-4fff-8ea4-0d6c162f2df9",
   "metadata": {},
   "outputs": [],
   "source": []
  },
  {
   "cell_type": "code",
   "execution_count": null,
   "id": "6ab36bea-3031-4042-9f35-07557a471f93",
   "metadata": {},
   "outputs": [],
   "source": []
  },
  {
   "cell_type": "code",
   "execution_count": null,
   "id": "db256d38-3178-4797-adca-e04084184fbc",
   "metadata": {},
   "outputs": [],
   "source": []
  },
  {
   "cell_type": "code",
   "execution_count": null,
   "id": "94e1c5d3-14c5-46b4-819d-43eeba86c023",
   "metadata": {},
   "outputs": [],
   "source": []
  }
 ],
 "metadata": {
  "kernelspec": {
   "display_name": "Python [conda env:base] *",
   "language": "python",
   "name": "conda-base-py"
  },
  "language_info": {
   "codemirror_mode": {
    "name": "ipython",
    "version": 3
   },
   "file_extension": ".py",
   "mimetype": "text/x-python",
   "name": "python",
   "nbconvert_exporter": "python",
   "pygments_lexer": "ipython3",
   "version": "3.12.7"
  }
 },
 "nbformat": 4,
 "nbformat_minor": 5
}
